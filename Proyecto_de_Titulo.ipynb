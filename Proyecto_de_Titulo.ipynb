{
  "cells": [
    {
      "attachments": {},
      "cell_type": "markdown",
      "metadata": {
        "id": "Z6apWzmZammV"
      },
      "source": [
        "# **Proyecto de Titulo**\n",
        "\n",
        "Proyecto en el cual se implementó un modelo de aprendizaje automático que en base a conjuntos de datos predice el rendimiento de un equipo. Logrando de esta forma descubrir los factores organizacionales que afectan al nivel futbolístico de un equipo.\n",
        "\n",
        "¿A qué se refiere con factores organizacionales?, básicamente a cualquier decisión tomada por la dirigencia del club, o de la federación, que pueda afectar el nivel futbolístico del equipo, por ejemplo: el constante cambio de entrenadores, las pocas oportunidades a las divisiones inferiores, la imposibilidad de mantener en el club a los mejores jugadores sin un proyecto convincente, la poca inversión en jugadores, la poca inversión en las divisiones inferiores, etc.\n",
        "\n",
        "¿Con qué fin?, con el objetivo de generar un caso de estudio y de esta forma ayudar a la toma de decisiones estratégicas en la interna de los equipos de futbol chilenos de cara a las competiciones internacionales de la CONMEBOL, mejorando el cumplimiento de sus objetivos en los torneos e influyendo directamente en los beneficios del club y de la liga chilena, elevando su prestigio internacional, como también su estabilidad económica.\n",
        "\n",
        "**Link a informe final:** https://drive.google.com/file/d/1dnNZvNrrvQsxZeCf0l6_RhD6DN6ZI2nQ/view?usp=sharing"
      ]
    },
    {
      "cell_type": "markdown",
      "metadata": {
        "id": "OmOE07pEa-GN"
      },
      "source": [
        "## Carga Librerias"
      ]
    },
    {
      "cell_type": "code",
      "execution_count": 2,
      "metadata": {
        "id": "dFqrLJJpQ2oA"
      },
      "outputs": [],
      "source": [
        "import pandas as pd\n",
        "import numpy as np\n",
        "import matplotlib.pyplot as plt\n",
        "from sklearn.ensemble import RandomForestClassifier\n",
        "from sklearn.linear_model import LogisticRegression\n",
        "from sklearn import metrics"
      ]
    },
    {
      "cell_type": "markdown",
      "metadata": {
        "id": "JsVSsEMhz_xc"
      },
      "source": [
        "## Carga de datos y analisis de datos nulos"
      ]
    },
    {
      "cell_type": "markdown",
      "metadata": {
        "id": "lUdPTMwjznUv"
      },
      "source": [
        "Para la construcción de los conjuntos de datos de entrenamiento se tuvo que definir cuáles son las variables organizacionales de un club fútbol que pueden afectar en su rendimiento en una competición internacional. Destacando que se requiere construir dos conjuntos de datos, uno con información sobre la Copa Libertadores, y otro con información sobre la Copa Sudamericana.\n",
        "\n",
        "Luego de estudiar el contexto se establecieron las variables a utilizar\n",
        "en los dos conjuntos de datos, estas son:\n",
        "\n",
        "*   **Nombre del equipo**, indica el nombre oficial del equipo de fútbol.\n",
        "*   **Año de su participación**, indica la edición de la competición en la cual el equipo participó.\n",
        "*   **País**, indicia el país al cual pertenece el equipo de fútbol.\n",
        "*   **Valor de mercado**, representa la suma total de la valorización en millones de euros de los jugadores de su plantilla en el año en que el equipo participó de la competición.\n",
        "*   **Promedio del valor de mercado**, representa el promedio en millones de euros del valor de mercado del equipo el año en el que participó de la competición.\n",
        "*   **Promedio de edad**, representa el promedio de edad de todos los jugadores de la plantilla del equipo el año en que participó de la competición.\n",
        "*   **Cantidad de jugadores en la plantilla**, representa la cantidad de jugadores inscritos por el equipo para la temporada.\n",
        "*   **Cantidad de jugadores extranjeros**, representa la cantidad de jugadores extranjeros inscritos por el equipo para la temporada.\n",
        "*   **Puntos Ranking de la liga**, indica los puntos de una clasificación anual de los campeonatos de primera división de todo el mundo realizado por la Federación Internacional de Historia y Estadística de Fútbol (IFFHS). Los puntos representan el número de equipos de cada liga\n",
        "que participan en competiciones internacionales y los puntos que consiguen.\n",
        "*   **Fase en la que inició**, representa la fase de la competición en la que el equipo inició su participación.\n",
        "*   **Fase en la que terminó**, representa la fase de la competición en la que el equipo terminó su participación.\n",
        "\n",
        "\n",
        "\n",
        "---\n",
        "---\n",
        "\n",
        "\n",
        "Para obtener los datos y generar los datasets se utilizó la tecnica de extracción de datos de forma automatica (scraping) desde el sitio web [transfermarkt](https://www.transfermarkt.es/).\n",
        "\n",
        "El procedimiento para cada conjunto de datos se puede revisar en los siguientes links:\n",
        "*   [Copa Libertadores](https://github.com/felipeee-mg/scraping-copa-libertadores)\n",
        "*   [Copa Sudamericana](https://github.com/felipeee-mg/scraping-copa-sudamericana)\n",
        "\n",
        "\n"
      ]
    },
    {
      "cell_type": "code",
      "execution_count": 3,
      "metadata": {
        "id": "bbEWuNLabAkS"
      },
      "outputs": [],
      "source": [
        "copa_libertadores = pd.read_csv(\"datasets/copa_libertadores.csv\")\n",
        "copa_sudamericana = pd.read_csv(\"datasets/copa_sudamericana.csv\")"
      ]
    },
    {
      "cell_type": "code",
      "execution_count": 4,
      "metadata": {
        "colab": {
          "base_uri": "https://localhost:8080/",
          "height": 337
        },
        "id": "f8Jovch4b5IS",
        "outputId": "f6b9778a-bb41-4765-afcf-f1515b1ffcb4"
      },
      "outputs": [
        {
          "data": {
            "text/html": [
              "<div>\n",
              "<style scoped>\n",
              "    .dataframe tbody tr th:only-of-type {\n",
              "        vertical-align: middle;\n",
              "    }\n",
              "\n",
              "    .dataframe tbody tr th {\n",
              "        vertical-align: top;\n",
              "    }\n",
              "\n",
              "    .dataframe thead th {\n",
              "        text-align: right;\n",
              "    }\n",
              "</style>\n",
              "<table border=\"1\" class=\"dataframe\">\n",
              "  <thead>\n",
              "    <tr style=\"text-align: right;\">\n",
              "      <th></th>\n",
              "      <th>equipo</th>\n",
              "      <th>edicion</th>\n",
              "      <th>pais</th>\n",
              "      <th>valor_mercado</th>\n",
              "      <th>promedio_valor_mercado</th>\n",
              "      <th>promedio_edad</th>\n",
              "      <th>cantidad_jugadores</th>\n",
              "      <th>cantidad_jugadores_extranjeros</th>\n",
              "      <th>puntos_ranking_liga</th>\n",
              "      <th>fase_inicio</th>\n",
              "      <th>fase_termino</th>\n",
              "    </tr>\n",
              "  </thead>\n",
              "  <tbody>\n",
              "    <tr>\n",
              "      <th>0</th>\n",
              "      <td>Clube de Regatas do Flamengo</td>\n",
              "      <td>2020</td>\n",
              "      <td>Brasil</td>\n",
              "      <td>152.20</td>\n",
              "      <td>2.818519</td>\n",
              "      <td>22.5</td>\n",
              "      <td>54</td>\n",
              "      <td>6</td>\n",
              "      <td>964.0</td>\n",
              "      <td>Fase de Grupos</td>\n",
              "      <td>Octavos de Final</td>\n",
              "    </tr>\n",
              "    <tr>\n",
              "      <th>1</th>\n",
              "      <td>Sociedade Esportiva Palmeiras</td>\n",
              "      <td>2020</td>\n",
              "      <td>Brasil</td>\n",
              "      <td>104.55</td>\n",
              "      <td>1.834211</td>\n",
              "      <td>22.6</td>\n",
              "      <td>57</td>\n",
              "      <td>8</td>\n",
              "      <td>964.0</td>\n",
              "      <td>Fase de Grupos</td>\n",
              "      <td>Campeón</td>\n",
              "    </tr>\n",
              "    <tr>\n",
              "      <th>2</th>\n",
              "      <td>Club Atlético River Plate</td>\n",
              "      <td>2020</td>\n",
              "      <td>Argentina</td>\n",
              "      <td>136.23</td>\n",
              "      <td>3.784167</td>\n",
              "      <td>25.2</td>\n",
              "      <td>36</td>\n",
              "      <td>7</td>\n",
              "      <td>603.0</td>\n",
              "      <td>Fase de Grupos</td>\n",
              "      <td>Semifinales</td>\n",
              "    </tr>\n",
              "    <tr>\n",
              "      <th>3</th>\n",
              "      <td>Club Atlético Boca Juniors</td>\n",
              "      <td>2020</td>\n",
              "      <td>Argentina</td>\n",
              "      <td>105.53</td>\n",
              "      <td>2.705897</td>\n",
              "      <td>24.6</td>\n",
              "      <td>39</td>\n",
              "      <td>6</td>\n",
              "      <td>603.0</td>\n",
              "      <td>Fase de Grupos</td>\n",
              "      <td>Semifinales</td>\n",
              "    </tr>\n",
              "    <tr>\n",
              "      <th>4</th>\n",
              "      <td>Grêmio Foot-Ball Porto Alegrense</td>\n",
              "      <td>2020</td>\n",
              "      <td>Brasil</td>\n",
              "      <td>106.60</td>\n",
              "      <td>2.132000</td>\n",
              "      <td>24.8</td>\n",
              "      <td>50</td>\n",
              "      <td>5</td>\n",
              "      <td>964.0</td>\n",
              "      <td>Fase de Grupos</td>\n",
              "      <td>Cuartos de Final</td>\n",
              "    </tr>\n",
              "  </tbody>\n",
              "</table>\n",
              "</div>"
            ],
            "text/plain": [
              "                             equipo  edicion       pais  valor_mercado  \\\n",
              "0      Clube de Regatas do Flamengo     2020     Brasil         152.20   \n",
              "1     Sociedade Esportiva Palmeiras     2020     Brasil         104.55   \n",
              "2         Club Atlético River Plate     2020  Argentina         136.23   \n",
              "3        Club Atlético Boca Juniors     2020  Argentina         105.53   \n",
              "4  Grêmio Foot-Ball Porto Alegrense     2020     Brasil         106.60   \n",
              "\n",
              "   promedio_valor_mercado  promedio_edad  cantidad_jugadores  \\\n",
              "0                2.818519           22.5                  54   \n",
              "1                1.834211           22.6                  57   \n",
              "2                3.784167           25.2                  36   \n",
              "3                2.705897           24.6                  39   \n",
              "4                2.132000           24.8                  50   \n",
              "\n",
              "   cantidad_jugadores_extranjeros  puntos_ranking_liga     fase_inicio  \\\n",
              "0                               6                964.0  Fase de Grupos   \n",
              "1                               8                964.0  Fase de Grupos   \n",
              "2                               7                603.0  Fase de Grupos   \n",
              "3                               6                603.0  Fase de Grupos   \n",
              "4                               5                964.0  Fase de Grupos   \n",
              "\n",
              "       fase_termino  \n",
              "0  Octavos de Final  \n",
              "1           Campeón  \n",
              "2       Semifinales  \n",
              "3       Semifinales  \n",
              "4  Cuartos de Final  "
            ]
          },
          "execution_count": 4,
          "metadata": {},
          "output_type": "execute_result"
        }
      ],
      "source": [
        "copa_libertadores.head()"
      ]
    },
    {
      "cell_type": "code",
      "execution_count": 5,
      "metadata": {
        "colab": {
          "base_uri": "https://localhost:8080/",
          "height": 302
        },
        "id": "75iQ4eKJcFpf",
        "outputId": "b131a9c9-bdd3-4171-8bc8-32ef06886959"
      },
      "outputs": [
        {
          "data": {
            "text/html": [
              "<div>\n",
              "<style scoped>\n",
              "    .dataframe tbody tr th:only-of-type {\n",
              "        vertical-align: middle;\n",
              "    }\n",
              "\n",
              "    .dataframe tbody tr th {\n",
              "        vertical-align: top;\n",
              "    }\n",
              "\n",
              "    .dataframe thead th {\n",
              "        text-align: right;\n",
              "    }\n",
              "</style>\n",
              "<table border=\"1\" class=\"dataframe\">\n",
              "  <thead>\n",
              "    <tr style=\"text-align: right;\">\n",
              "      <th></th>\n",
              "      <th>equipo</th>\n",
              "      <th>edicion</th>\n",
              "      <th>pais</th>\n",
              "      <th>valor_mercado</th>\n",
              "      <th>promedio_valor_mercado</th>\n",
              "      <th>promedio_edad</th>\n",
              "      <th>cantidad_jugadores</th>\n",
              "      <th>cantidad_jugadores_extranjeros</th>\n",
              "      <th>puntos_ranking_liga</th>\n",
              "      <th>fase_inicio</th>\n",
              "      <th>fase_termino</th>\n",
              "    </tr>\n",
              "  </thead>\n",
              "  <tbody>\n",
              "    <tr>\n",
              "      <th>0</th>\n",
              "      <td>Clube Atlético Mineiro</td>\n",
              "      <td>2020</td>\n",
              "      <td>Brasil</td>\n",
              "      <td>75.33</td>\n",
              "      <td>1.345179</td>\n",
              "      <td>23.3</td>\n",
              "      <td>56</td>\n",
              "      <td>10</td>\n",
              "      <td>964.0</td>\n",
              "      <td>Fase 1</td>\n",
              "      <td>Fase 1</td>\n",
              "    </tr>\n",
              "    <tr>\n",
              "      <th>1</th>\n",
              "      <td>São Paulo Futebol Clube</td>\n",
              "      <td>2020</td>\n",
              "      <td>Brasil</td>\n",
              "      <td>77.13</td>\n",
              "      <td>1.641064</td>\n",
              "      <td>22.9</td>\n",
              "      <td>47</td>\n",
              "      <td>6</td>\n",
              "      <td>964.0</td>\n",
              "      <td>Fase 2</td>\n",
              "      <td>Fase 2</td>\n",
              "    </tr>\n",
              "    <tr>\n",
              "      <th>2</th>\n",
              "      <td>Club Atlético Vélez Sarsfield</td>\n",
              "      <td>2020</td>\n",
              "      <td>Argentina</td>\n",
              "      <td>75.23</td>\n",
              "      <td>1.928974</td>\n",
              "      <td>22.8</td>\n",
              "      <td>39</td>\n",
              "      <td>5</td>\n",
              "      <td>603.0</td>\n",
              "      <td>Fase 1</td>\n",
              "      <td>Semifinales</td>\n",
              "    </tr>\n",
              "    <tr>\n",
              "      <th>3</th>\n",
              "      <td>Club Atlético Lanús</td>\n",
              "      <td>2020</td>\n",
              "      <td>Argentina</td>\n",
              "      <td>46.78</td>\n",
              "      <td>1.417576</td>\n",
              "      <td>21.8</td>\n",
              "      <td>33</td>\n",
              "      <td>2</td>\n",
              "      <td>603.0</td>\n",
              "      <td>Fase 1</td>\n",
              "      <td>Final</td>\n",
              "    </tr>\n",
              "    <tr>\n",
              "      <th>4</th>\n",
              "      <td>Fluminense Football Club</td>\n",
              "      <td>2020</td>\n",
              "      <td>Brasil</td>\n",
              "      <td>39.43</td>\n",
              "      <td>0.773137</td>\n",
              "      <td>23.3</td>\n",
              "      <td>51</td>\n",
              "      <td>3</td>\n",
              "      <td>964.0</td>\n",
              "      <td>Fase 1</td>\n",
              "      <td>Fase 1</td>\n",
              "    </tr>\n",
              "  </tbody>\n",
              "</table>\n",
              "</div>"
            ],
            "text/plain": [
              "                          equipo  edicion       pais  valor_mercado  \\\n",
              "0         Clube Atlético Mineiro     2020     Brasil          75.33   \n",
              "1        São Paulo Futebol Clube     2020     Brasil          77.13   \n",
              "2  Club Atlético Vélez Sarsfield     2020  Argentina          75.23   \n",
              "3            Club Atlético Lanús     2020  Argentina          46.78   \n",
              "4       Fluminense Football Club     2020     Brasil          39.43   \n",
              "\n",
              "   promedio_valor_mercado  promedio_edad  cantidad_jugadores  \\\n",
              "0                1.345179           23.3                  56   \n",
              "1                1.641064           22.9                  47   \n",
              "2                1.928974           22.8                  39   \n",
              "3                1.417576           21.8                  33   \n",
              "4                0.773137           23.3                  51   \n",
              "\n",
              "   cantidad_jugadores_extranjeros  puntos_ranking_liga fase_inicio  \\\n",
              "0                              10                964.0      Fase 1   \n",
              "1                               6                964.0      Fase 2   \n",
              "2                               5                603.0      Fase 1   \n",
              "3                               2                603.0      Fase 1   \n",
              "4                               3                964.0      Fase 1   \n",
              "\n",
              "  fase_termino  \n",
              "0       Fase 1  \n",
              "1       Fase 2  \n",
              "2  Semifinales  \n",
              "3        Final  \n",
              "4       Fase 1  "
            ]
          },
          "execution_count": 5,
          "metadata": {},
          "output_type": "execute_result"
        }
      ],
      "source": [
        "copa_sudamericana.head()"
      ]
    },
    {
      "cell_type": "markdown",
      "metadata": {
        "id": "PObrfCZDe3I-"
      },
      "source": [
        "**Se graficó la cantidad de datos no nulos por dataset para así visualizar y analizar de mejor forma estos.**"
      ]
    },
    {
      "cell_type": "code",
      "execution_count": 6,
      "metadata": {
        "colab": {
          "base_uri": "https://localhost:8080/",
          "height": 650
        },
        "id": "ZLtbcWPegT-9",
        "outputId": "f5ec3784-d7e6-43b5-98dd-bcb399ae149d"
      },
      "outputs": [
        {
          "data": {
            "image/png": "[encoded data removed]",
            "text/plain": [
              "<Figure size 1000x800 with 1 Axes>"
            ]
          },
          "metadata": {},
          "output_type": "display_data"
        }
      ],
      "source": [
        "cantidad_datos_cl = copa_libertadores.count(axis=0)\n",
        "grafico_cl = cantidad_datos_cl.plot(kind=\"bar\", figsize=(10,8))\n",
        "for p in grafico_cl.patches:\n",
        "    grafico_cl.annotate(np.round(p.get_height()), (p.get_x()+p.get_width()/2, p.get_height()), ha='center', xytext=(0, 5), textcoords='offset points')\n",
        "grafico_cl.set_title(\"Cantidad de datos no nulos por columna de la Copa Libertadores\", fontsize=16, weight=\"bold\")\n",
        "plt.show()"
      ]
    },
    {
      "cell_type": "code",
      "execution_count": 7,
      "metadata": {
        "colab": {
          "base_uri": "https://localhost:8080/",
          "height": 650
        },
        "id": "SlBYIl_8y0nO",
        "outputId": "9d139bcb-9961-4d59-e9de-9955bd4cac2b"
      },
      "outputs": [
        {
          "data": {
            "image/png": "[encoded data removed]",
            "text/plain": [
              "<Figure size 1000x800 with 1 Axes>"
            ]
          },
          "metadata": {},
          "output_type": "display_data"
        }
      ],
      "source": [
        "cantidad_datos_cs = copa_sudamericana.count(axis=0)\n",
        "grafico_cs = cantidad_datos_cs.plot(kind=\"bar\", figsize=(10,8))\n",
        "for p in grafico_cs.patches:\n",
        "    grafico_cs.annotate(np.round(p.get_height()), (p.get_x()+p.get_width()/2, p.get_height()), ha='center', xytext=(0, 5), textcoords='offset points')\n",
        "grafico_cs.set_title(\"Cantidad de datos no nulos por columna de la Copa Sudamericana\", fontsize=16, weight=\"bold\")\n",
        "plt.show()"
      ]
    },
    {
      "cell_type": "markdown",
      "metadata": {
        "id": "kXzaiUNeVHdM"
      },
      "source": [
        "## Preprocesamiento"
      ]
    },
    {
      "attachments": {},
      "cell_type": "markdown",
      "metadata": {
        "id": "_mcO3Cjd6cIY"
      },
      "source": [
        "En relación al procesamiento de valores nulos, a partir del análisis anterior se infiere que, en las columnas, **valor_mercado**, **promedio_valor_mercado** y **puntos_ranking_liga** de ambos conjuntos\n",
        "de datos existen datos nulos.\n",
        "\n",
        "Por lo tanto, para no eliminar filas de los datasets y al ser pocos los datos nulos, se decidió se ingresaron manualmente los datos faltantes.\n"
      ]
    },
    {
      "cell_type": "code",
      "execution_count": 9,
      "metadata": {
        "id": "FZPLmWipVJ05"
      },
      "outputs": [],
      "source": [
        "copa_libertadores = pd.read_csv(\"datasets/copa_libertadores_no_null.csv\")\n",
        "copa_sudamericana = pd.read_csv(\"datasets/copa_sudamericana_no_null.csv\")"
      ]
    },
    {
      "cell_type": "code",
      "execution_count": 10,
      "metadata": {
        "colab": {
          "base_uri": "https://localhost:8080/"
        },
        "id": "Va2QA04XWCvy",
        "outputId": "b1022d91-cec8-4000-b366-8379428adfec"
      },
      "outputs": [
        {
          "name": "stdout",
          "output_type": "stream",
          "text": [
            "<class 'pandas.core.frame.DataFrame'>\n",
            "RangeIndex: 456 entries, 0 to 455\n",
            "Data columns (total 11 columns):\n",
            " #   Column                          Non-Null Count  Dtype  \n",
            "---  ------                          --------------  -----  \n",
            " 0   equipo                          456 non-null    object \n",
            " 1   edicion                         456 non-null    int64  \n",
            " 2   pais                            456 non-null    object \n",
            " 3   valor_mercado                   456 non-null    float64\n",
            " 4   promedio_valor_mercado          456 non-null    float64\n",
            " 5   promedio_edad                   456 non-null    float64\n",
            " 6   cantidad_jugadores              456 non-null    int64  \n",
            " 7   cantidad_jugadores_extranjeros  456 non-null    int64  \n",
            " 8   puntos_ranking_liga             456 non-null    float64\n",
            " 9   fase_inicio                     456 non-null    object \n",
            " 10  fase_termino                    456 non-null    object \n",
            "dtypes: float64(4), int64(3), object(4)\n",
            "memory usage: 39.3+ KB\n"
          ]
        }
      ],
      "source": [
        "copa_libertadores.info()"
      ]
    },
    {
      "cell_type": "code",
      "execution_count": 11,
      "metadata": {
        "colab": {
          "base_uri": "https://localhost:8080/"
        },
        "id": "vuwaLQP_WIVz",
        "outputId": "d9e6f50a-6b65-4712-f05b-a7921a8ae6d4"
      },
      "outputs": [
        {
          "name": "stdout",
          "output_type": "stream",
          "text": [
            "<class 'pandas.core.frame.DataFrame'>\n",
            "RangeIndex: 529 entries, 0 to 528\n",
            "Data columns (total 11 columns):\n",
            " #   Column                          Non-Null Count  Dtype  \n",
            "---  ------                          --------------  -----  \n",
            " 0   equipo                          529 non-null    object \n",
            " 1   edicion                         529 non-null    int64  \n",
            " 2   pais                            529 non-null    object \n",
            " 3   valor_mercado                   529 non-null    float64\n",
            " 4   promedio_valor_mercado          529 non-null    float64\n",
            " 5   promedio_edad                   529 non-null    float64\n",
            " 6   cantidad_jugadores              529 non-null    int64  \n",
            " 7   cantidad_jugadores_extranjeros  529 non-null    int64  \n",
            " 8   puntos_ranking_liga             529 non-null    float64\n",
            " 9   fase_inicio                     529 non-null    object \n",
            " 10  fase_termino                    529 non-null    object \n",
            "dtypes: float64(4), int64(3), object(4)\n",
            "memory usage: 45.6+ KB\n"
          ]
        }
      ],
      "source": [
        "copa_sudamericana.info()"
      ]
    },
    {
      "attachments": {},
      "cell_type": "markdown",
      "metadata": {
        "id": "mOtzf1HOkdWK"
      },
      "source": [
        "**Creación de Variables Ficticias (dummies) para así estandarizar las posibles variables de entrada a tipos de datos int64 o float64.**"
      ]
    },
    {
      "cell_type": "code",
      "execution_count": 12,
      "metadata": {
        "colab": {
          "base_uri": "https://localhost:8080/",
          "height": 531
        },
        "id": "cQKMT39vjz1j",
        "outputId": "ca1cfaf8-9910-4512-dd67-dc8fdb7e7ac5"
      },
      "outputs": [
        {
          "data": {
            "text/html": [
              "<div>\n",
              "<style scoped>\n",
              "    .dataframe tbody tr th:only-of-type {\n",
              "        vertical-align: middle;\n",
              "    }\n",
              "\n",
              "    .dataframe tbody tr th {\n",
              "        vertical-align: top;\n",
              "    }\n",
              "\n",
              "    .dataframe thead th {\n",
              "        text-align: right;\n",
              "    }\n",
              "</style>\n",
              "<table border=\"1\" class=\"dataframe\">\n",
              "  <thead>\n",
              "    <tr style=\"text-align: right;\">\n",
              "      <th></th>\n",
              "      <th>equipo</th>\n",
              "      <th>edicion</th>\n",
              "      <th>pais</th>\n",
              "      <th>valor_mercado</th>\n",
              "      <th>promedio_valor_mercado</th>\n",
              "      <th>promedio_edad</th>\n",
              "      <th>cantidad_jugadores</th>\n",
              "      <th>cantidad_jugadores_extranjeros</th>\n",
              "      <th>puntos_ranking_liga</th>\n",
              "      <th>fase_termino</th>\n",
              "      <th>fase_inicio_Fase 1</th>\n",
              "      <th>fase_inicio_Fase 2</th>\n",
              "      <th>fase_inicio_Fase 3</th>\n",
              "      <th>fase_inicio_Fase de Grupos</th>\n",
              "      <th>fase_inicio_Octavos de Final</th>\n",
              "    </tr>\n",
              "  </thead>\n",
              "  <tbody>\n",
              "    <tr>\n",
              "      <th>0</th>\n",
              "      <td>Clube de Regatas do Flamengo</td>\n",
              "      <td>2020</td>\n",
              "      <td>Brasil</td>\n",
              "      <td>152.20</td>\n",
              "      <td>2.818519</td>\n",
              "      <td>22.5</td>\n",
              "      <td>54</td>\n",
              "      <td>6</td>\n",
              "      <td>964.0</td>\n",
              "      <td>Octavos de Final</td>\n",
              "      <td>0</td>\n",
              "      <td>0</td>\n",
              "      <td>0</td>\n",
              "      <td>1</td>\n",
              "      <td>0</td>\n",
              "    </tr>\n",
              "    <tr>\n",
              "      <th>1</th>\n",
              "      <td>Sociedade Esportiva Palmeiras</td>\n",
              "      <td>2020</td>\n",
              "      <td>Brasil</td>\n",
              "      <td>104.55</td>\n",
              "      <td>1.834211</td>\n",
              "      <td>22.6</td>\n",
              "      <td>57</td>\n",
              "      <td>8</td>\n",
              "      <td>964.0</td>\n",
              "      <td>Campeón</td>\n",
              "      <td>0</td>\n",
              "      <td>0</td>\n",
              "      <td>0</td>\n",
              "      <td>1</td>\n",
              "      <td>0</td>\n",
              "    </tr>\n",
              "    <tr>\n",
              "      <th>2</th>\n",
              "      <td>Club Atlético River Plate</td>\n",
              "      <td>2020</td>\n",
              "      <td>Argentina</td>\n",
              "      <td>136.23</td>\n",
              "      <td>3.784167</td>\n",
              "      <td>25.2</td>\n",
              "      <td>36</td>\n",
              "      <td>7</td>\n",
              "      <td>603.0</td>\n",
              "      <td>Semifinales</td>\n",
              "      <td>0</td>\n",
              "      <td>0</td>\n",
              "      <td>0</td>\n",
              "      <td>1</td>\n",
              "      <td>0</td>\n",
              "    </tr>\n",
              "    <tr>\n",
              "      <th>3</th>\n",
              "      <td>Club Atlético Boca Juniors</td>\n",
              "      <td>2020</td>\n",
              "      <td>Argentina</td>\n",
              "      <td>105.53</td>\n",
              "      <td>2.705897</td>\n",
              "      <td>24.6</td>\n",
              "      <td>39</td>\n",
              "      <td>6</td>\n",
              "      <td>603.0</td>\n",
              "      <td>Semifinales</td>\n",
              "      <td>0</td>\n",
              "      <td>0</td>\n",
              "      <td>0</td>\n",
              "      <td>1</td>\n",
              "      <td>0</td>\n",
              "    </tr>\n",
              "    <tr>\n",
              "      <th>4</th>\n",
              "      <td>Grêmio Foot-Ball Porto Alegrense</td>\n",
              "      <td>2020</td>\n",
              "      <td>Brasil</td>\n",
              "      <td>106.60</td>\n",
              "      <td>2.132000</td>\n",
              "      <td>24.8</td>\n",
              "      <td>50</td>\n",
              "      <td>5</td>\n",
              "      <td>964.0</td>\n",
              "      <td>Cuartos de Final</td>\n",
              "      <td>0</td>\n",
              "      <td>0</td>\n",
              "      <td>0</td>\n",
              "      <td>1</td>\n",
              "      <td>0</td>\n",
              "    </tr>\n",
              "  </tbody>\n",
              "</table>\n",
              "</div>"
            ],
            "text/plain": [
              "                             equipo  edicion       pais  valor_mercado  \\\n",
              "0      Clube de Regatas do Flamengo     2020     Brasil         152.20   \n",
              "1     Sociedade Esportiva Palmeiras     2020     Brasil         104.55   \n",
              "2         Club Atlético River Plate     2020  Argentina         136.23   \n",
              "3        Club Atlético Boca Juniors     2020  Argentina         105.53   \n",
              "4  Grêmio Foot-Ball Porto Alegrense     2020     Brasil         106.60   \n",
              "\n",
              "   promedio_valor_mercado  promedio_edad  cantidad_jugadores  \\\n",
              "0                2.818519           22.5                  54   \n",
              "1                1.834211           22.6                  57   \n",
              "2                3.784167           25.2                  36   \n",
              "3                2.705897           24.6                  39   \n",
              "4                2.132000           24.8                  50   \n",
              "\n",
              "   cantidad_jugadores_extranjeros  puntos_ranking_liga      fase_termino  \\\n",
              "0                               6                964.0  Octavos de Final   \n",
              "1                               8                964.0           Campeón   \n",
              "2                               7                603.0       Semifinales   \n",
              "3                               6                603.0       Semifinales   \n",
              "4                               5                964.0  Cuartos de Final   \n",
              "\n",
              "   fase_inicio_Fase 1  fase_inicio_Fase 2  fase_inicio_Fase 3  \\\n",
              "0                   0                   0                   0   \n",
              "1                   0                   0                   0   \n",
              "2                   0                   0                   0   \n",
              "3                   0                   0                   0   \n",
              "4                   0                   0                   0   \n",
              "\n",
              "   fase_inicio_Fase de Grupos  fase_inicio_Octavos de Final  \n",
              "0                           1                             0  \n",
              "1                           1                             0  \n",
              "2                           1                             0  \n",
              "3                           1                             0  \n",
              "4                           1                             0  "
            ]
          },
          "execution_count": 12,
          "metadata": {},
          "output_type": "execute_result"
        }
      ],
      "source": [
        "copa_libertadores = pd.get_dummies(copa_libertadores, columns=['fase_inicio'])\n",
        "copa_sudamericana = pd.get_dummies(copa_sudamericana, columns=['fase_inicio'])\n",
        "copa_libertadores.head()"
      ]
    },
    {
      "cell_type": "markdown",
      "metadata": {
        "id": "ShB_GRMrobNP"
      },
      "source": [
        "## Modelamiento"
      ]
    },
    {
      "attachments": {},
      "cell_type": "markdown",
      "metadata": {
        "id": "x9QIF4928eEW"
      },
      "source": [
        "Los modelos que fueron seleccionados para utilizar y posteriormente comparara bajo métricas de precisión son Regresión Logística y Random Forest (algoritmos de clasificación).\n",
        "\n",
        "**Las variables de entrada para los modelos son las siguientes:**\n",
        "\n",
        "\n",
        "*   Valor de mercado\n",
        "*   Promedio del valor de mercado\n",
        "*   Promedio de edad\n",
        "*   Cantidad de jugadores en la plantilla\n",
        "*   Cantidad de jugadores extranjeros\n",
        "*   Puntos Ranking de la liga\n",
        "*   Fase en la que inició\n",
        "\n",
        "**Y la variable de salida es:**\n",
        "*   Fase en la que terminó"
      ]
    },
    {
      "cell_type": "markdown",
      "metadata": {
        "id": "mIvZ8wYtr5hw"
      },
      "source": [
        "### 1. Random Forest Classifier"
      ]
    },
    {
      "cell_type": "markdown",
      "metadata": {
        "id": "yLcrl0a2sNjS"
      },
      "source": [
        "Copa Libertadores"
      ]
    },
    {
      "cell_type": "code",
      "execution_count": 13,
      "metadata": {
        "colab": {
          "base_uri": "https://localhost:8080/"
        },
        "id": "HQuiolHInI4l",
        "outputId": "ea37d2aa-ff47-4b48-9223-97fefaaceec4"
      },
      "outputs": [
        {
          "name": "stdout",
          "output_type": "stream",
          "text": [
            "Accuracy Score Copa Libertadores: 46.808510638297875 %\n"
          ]
        },
        {
          "data": {
            "text/plain": [
              "array([0.        , 0.33333333, 0.85714286, 0.63157895, 0.        ,\n",
              "       0.59459459, 0.        , 0.14285714, 0.        ])"
            ]
          },
          "execution_count": 13,
          "metadata": {},
          "output_type": "execute_result"
        }
      ],
      "source": [
        "X = copa_libertadores.drop(['equipo', 'edicion', 'pais', 'fase_termino'], axis=1)\n",
        "y = copa_libertadores['fase_termino']\n",
        "\n",
        "X_train = X.iloc[47:]\n",
        "X_test = X.iloc[:47]\n",
        "y_train = y.iloc[47:]\n",
        "y_test = y.iloc[:47]\n",
        "\n",
        "model = RandomForestClassifier()\n",
        "model.fit(X_train,y_train)\n",
        "y_pred=model.predict(X_test)\n",
        "\n",
        "print(\"Accuracy Score Copa Libertadores:\",metrics.accuracy_score(y_test, y_pred)*100,'%')\n",
        "metrics.f1_score(y_test, y_pred, average=None)"
      ]
    },
    {
      "cell_type": "markdown",
      "metadata": {
        "id": "_9Q1xncWsQsn"
      },
      "source": [
        "Copa Sudamericana"
      ]
    },
    {
      "cell_type": "code",
      "execution_count": 15,
      "metadata": {
        "colab": {
          "base_uri": "https://localhost:8080/"
        },
        "id": "4jOu_-4usTja",
        "outputId": "bc34b117-2c8f-4651-dd72-f47dd77fd276"
      },
      "outputs": [
        {
          "name": "stdout",
          "output_type": "stream",
          "text": [
            "Precisión Copa Sudamericana: 42.5531914893617 %\n"
          ]
        },
        {
          "data": {
            "text/plain": [
              "array([0.        , 0.4       , 0.60465116, 0.35714286, 0.        ,\n",
              "       0.14285714, 0.        ])"
            ]
          },
          "execution_count": 15,
          "metadata": {},
          "output_type": "execute_result"
        }
      ],
      "source": [
        "X = copa_sudamericana.drop(['equipo', 'edicion', 'pais', 'fase_termino'], axis=1)\n",
        "y = copa_sudamericana['fase_termino']\n",
        "\n",
        "X_train = X.iloc[47:]\n",
        "X_test = X.iloc[:47]\n",
        "y_train = y.iloc[47:]\n",
        "y_test = y.iloc[:47]\n",
        "\n",
        "model = RandomForestClassifier()\n",
        "model.fit(X_train,y_train)\n",
        "y_pred=model.predict(X_test)\n",
        "\n",
        "print(\"Precisión Copa Sudamericana:\",metrics.accuracy_score(y_test, y_pred)*100,'%')\n",
        "metrics.f1_score(y_test, y_pred, average=None)"
      ]
    },
    {
      "cell_type": "markdown",
      "metadata": {
        "id": "cfoI6wjOvPMe"
      },
      "source": [
        "### 2. Regresión Logistica Multinomial"
      ]
    },
    {
      "cell_type": "markdown",
      "metadata": {
        "id": "JiGR0d6fvPMv"
      },
      "source": [
        "Copa Libertadores"
      ]
    },
    {
      "cell_type": "code",
      "execution_count": 24,
      "metadata": {
        "colab": {
          "base_uri": "https://localhost:8080/"
        },
        "id": "Ce064G3fvPMw",
        "outputId": "7fcd35a0-ea9a-4808-ba9f-6e4a585ed3bb"
      },
      "outputs": [
        {
          "name": "stdout",
          "output_type": "stream",
          "text": [
            "Accuracy Score Copa Libertadores: 53.191489361702125 %\n"
          ]
        },
        {
          "data": {
            "text/plain": [
              "array([0.66666667, 0.        , 0.75      , 0.6       , 0.        ,\n",
              "       0.74285714, 0.        , 0.30769231, 0.        ])"
            ]
          },
          "execution_count": 24,
          "metadata": {},
          "output_type": "execute_result"
        }
      ],
      "source": [
        "X = copa_libertadores.drop(['equipo', 'edicion', 'pais', 'fase_termino'], axis=1)\n",
        "y = copa_libertadores['fase_termino']\n",
        "\n",
        "X_train = X.iloc[47:]\n",
        "X_test = X.iloc[:47]\n",
        "y_train = y.iloc[47:]\n",
        "y_test = y.iloc[:47]\n",
        "\n",
        "model = LogisticRegression(max_iter=10000)\n",
        "model.fit(X_train,y_train)\n",
        "y_pred=model.predict(X_test)\n",
        "\n",
        "print(\"Accuracy Score Copa Libertadores:\",metrics.accuracy_score(y_test, y_pred)*100,'%')\n",
        "metrics.f1_score(y_test, y_pred, average=None)"
      ]
    },
    {
      "cell_type": "markdown",
      "metadata": {
        "id": "UvSxR_NxvPMw"
      },
      "source": [
        "Copa Sudamericana"
      ]
    },
    {
      "cell_type": "code",
      "execution_count": 25,
      "metadata": {
        "colab": {
          "base_uri": "https://localhost:8080/"
        },
        "id": "GFxgVstmvPMx",
        "outputId": "e2b7add2-8a41-4b3d-e2a2-a9841a6a2269"
      },
      "outputs": [
        {
          "name": "stdout",
          "output_type": "stream",
          "text": [
            "Accuracy Score Copa Sudamericana: 40.42553191489361 %\n"
          ]
        },
        {
          "data": {
            "text/plain": [
              "array([0.        , 0.        , 0.56      , 0.37037037, 0.        ,\n",
              "       0.        , 0.        ])"
            ]
          },
          "execution_count": 25,
          "metadata": {},
          "output_type": "execute_result"
        }
      ],
      "source": [
        "X = copa_sudamericana.drop(['equipo', 'edicion', 'pais', 'fase_termino'], axis=1)\n",
        "y = copa_sudamericana['fase_termino']\n",
        "\n",
        "X_train = X.iloc[47:]\n",
        "X_test = X.iloc[:47]\n",
        "y_train = y.iloc[47:]\n",
        "y_test = y.iloc[:47]\n",
        "\n",
        "model = LogisticRegression(max_iter=10000)\n",
        "model.fit(X_train,y_train)\n",
        "y_pred=model.predict(X_test)\n",
        "\n",
        "print(\"Accuracy Score Copa Sudamericana:\",metrics.accuracy_score(y_test, y_pred)*100,'%')\n",
        "metrics.f1_score(y_test, y_pred, average=None)"
      ]
    }
  ],
  "metadata": {
    "colab": {
      "provenance": []
    },
    "kernelspec": {
      "display_name": "Python 3.10.5 64-bit",
      "language": "python",
      "name": "python3"
    },
    "language_info": {
      "codemirror_mode": {
        "name": "ipython",
        "version": 3
      },
      "file_extension": ".py",
      "mimetype": "text/x-python",
      "name": "python",
      "nbconvert_exporter": "python",
      "pygments_lexer": "ipython3",
      "version": "3.10.5"
    },
    "vscode": {
      "interpreter": {
        "hash": "ca2ba79aced5e991fc3a09fa7b65e83331a2545d9c114aeb361b49cea534db9d"
      }
    }
  },
  "nbformat": 4,
  "nbformat_minor": 0
}
